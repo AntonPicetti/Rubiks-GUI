{
 "cells": [
  {
   "cell_type": "code",
   "execution_count": 2,
   "id": "94d76cad-a540-4a1c-8b3a-3435a1b9866b",
   "metadata": {},
   "outputs": [],
   "source": [
    "import cv2\n",
    "import numpy as np\n",
    "import matplotlib.pylab as plt\n",
    "import os\n",
    "import time"
   ]
  },
  {
   "cell_type": "code",
   "execution_count": 8,
   "id": "8988974d",
   "metadata": {},
   "outputs": [],
   "source": [
    "normal_folder = \"./uploads-normal\"\n",
    "segmented_folder = \"./uploads-segmented\"\n",
    "normal_folder_processed = \"./preprocessed/normal\"\n",
    "segmented_folder_processed = \"./preprocessed/segmented\""
   ]
  },
  {
   "cell_type": "code",
   "execution_count": 1,
   "id": "791b8ccc",
   "metadata": {},
   "outputs": [],
   "source": [
    "fixed_classification_folder = \"./uploads-fixed-classification\"\n",
    "fixed_classification_folder_processed = \"./preprocessed/fixed-classification\""
   ]
  },
  {
   "cell_type": "code",
   "execution_count": 3,
   "id": "c91bc01a",
   "metadata": {},
   "outputs": [],
   "source": [
    "def plot_images(images):\n",
    "    n = len(images)\n",
    "    for i, image in enumerate(images):\n",
    "      image_rgb = cv2.cvtColor(image, cv2.COLOR_BGR2RGB)\n",
    "      plt.subplot(int(\"1\" + str(n) + str(i+1))),plt.imshow(image_rgb)"
   ]
  },
  {
   "cell_type": "code",
   "execution_count": 4,
   "id": "49dfb4d4",
   "metadata": {},
   "outputs": [],
   "source": [
    "def crop(image):\n",
    "    return image[200:800, 250:750]"
   ]
  },
  {
   "cell_type": "code",
   "execution_count": 5,
   "id": "14e77e4d",
   "metadata": {},
   "outputs": [],
   "source": [
    "def process_normal_image(image):\n",
    "    cropped = crop(image)\n",
    "    #gray_cropped = cv2.cvtColor(cropped, cv2.COLOR_BGR2GRAY)\n",
    "    # Skip rescaling for now.\n",
    "    rescaled = cv2.resize(cropped, (128, 128))  # Rescale the image to 32x32\n",
    "\n",
    "    return rescaled"
   ]
  },
  {
   "cell_type": "code",
   "execution_count": 6,
   "id": "bab14415",
   "metadata": {},
   "outputs": [],
   "source": [
    "def replace_colors(image):\n",
    "    # Convert from BGR to RGB\n",
    "    img_rgb = cv2.cvtColor(image, cv2.COLOR_BGR2RGB)\n",
    "    \n",
    "    # Define the target color (magenta) and the replacement colors\n",
    "    target_color = np.array([255, 0, 255])  # RGB for #FF00FF\n",
    "    replacement_color = np.array([255, 255, 255])  # RGB for #FFFFFF\n",
    "    other_color = np.array([0, 0, 0])  # RGB for #000000\n",
    "    \n",
    "    # Create a mask for pixels equal to the target color\n",
    "    mask = np.all(img_rgb == target_color, axis=-1)\n",
    "    \n",
    "    # Use np.where to replace target color with replacement_color and all others with other_color\n",
    "    new_img = np.where(mask[..., None], replacement_color, other_color)\n",
    "\n",
    "    return new_img\n",
    "\n",
    "def process_segmented_image(image):\n",
    "    cropped = crop(image)\n",
    "    rescaled = cv2.resize(cropped, (128, 128))  # Rescale the image to 32x32\n",
    "    segmented = replace_colors(rescaled)\n",
    "    return segmented"
   ]
  },
  {
   "cell_type": "code",
   "execution_count": 9,
   "id": "0b2b90e5",
   "metadata": {},
   "outputs": [
    {
     "name": "stdout",
     "output_type": "stream",
     "text": [
      "Processed 0 images, time elapsed: 0.04424548149108887 seconds\n",
      "Processed 100 images, time elapsed: 3.3092854022979736 seconds\n",
      "Processed 200 images, time elapsed: 6.692656755447388 seconds\n",
      "Processed 300 images, time elapsed: 10.03685450553894 seconds\n",
      "Processed 400 images, time elapsed: 13.608033418655396 seconds\n",
      "Processed 500 images, time elapsed: 16.927855253219604 seconds\n",
      "Processed 600 images, time elapsed: 20.570651531219482 seconds\n",
      "Processed 700 images, time elapsed: 23.92080783843994 seconds\n",
      "Processed 800 images, time elapsed: 27.20231318473816 seconds\n",
      "Processed 900 images, time elapsed: 30.488060474395752 seconds\n",
      "--- 33.79405879974365 seconds ---\n"
     ]
    }
   ],
   "source": [
    "def process_and_move(filename, folder, processed_folder, process_function):\n",
    "        input_image_path = os.path.join(folder, filename)\n",
    "        processed_image_path = os.path.join(processed_folder, filename)\n",
    "\n",
    "        image = cv2.imread(input_image_path)\n",
    "        processed_image = process_function(image)\n",
    "\n",
    "        cv2.imwrite(processed_image_path, processed_image)\n",
    "        os.remove(input_image_path)\n",
    "\n",
    "\n",
    "start_time = time.time()\n",
    "for i, filename in enumerate(os.listdir(normal_folder)):\n",
    "    process_and_move(filename, normal_folder, normal_folder_processed, process_normal_image)\n",
    "    #process_and_move(filename, segmented_folder, segmented_folder_processed, process_segmented_image)\n",
    "    process_and_move(filename, fixed_classification_folder, fixed_classification_folder_processed, process_segmented_image)\n",
    "\n",
    "    # Print progress every 100 images.\n",
    "    if i % 100 == 0:\n",
    "        print(f\"Processed {i} images, time elapsed: {time.time() - start_time} seconds\")\n",
    "print(\"--- %s seconds ---\" % (time.time() - start_time))"
   ]
  },
  {
   "cell_type": "code",
   "execution_count": null,
   "id": "a9949d38",
   "metadata": {},
   "outputs": [],
   "source": []
  }
 ],
 "metadata": {
  "kernelspec": {
   "display_name": "Python 3 (ipykernel)",
   "language": "python",
   "name": "python3"
  },
  "language_info": {
   "codemirror_mode": {
    "name": "ipython",
    "version": 3
   },
   "file_extension": ".py",
   "mimetype": "text/x-python",
   "name": "python",
   "nbconvert_exporter": "python",
   "pygments_lexer": "ipython3",
   "version": "3.10.12"
  }
 },
 "nbformat": 4,
 "nbformat_minor": 5
}
