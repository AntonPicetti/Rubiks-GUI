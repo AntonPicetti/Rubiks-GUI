{
  "cells": [
    {
      "cell_type": "markdown",
      "metadata": {
        "id": "Lw8aGNu4st1n"
      },
      "source": [
        "# Rubiks Visualizer"
      ]
    },
    {
      "cell_type": "code",
      "execution_count": 145,
      "metadata": {
        "id": "WyGGSR6CMvNa"
      },
      "outputs": [
        {
          "data": {
            "image/png": "[encoded data removed]",
            "text/plain": [
              "<Figure size 640x480 with 1 Axes>"
            ]
          },
          "metadata": {},
          "output_type": "display_data"
        }
      ],
      "source": [
        "viz = np.zeros((3*4, 3*3, 3))\n",
        "\n",
        "# Draw fixed pieces.\n",
        "fixed_offset = 50\n",
        "viz[1][4] = [0, 0, 255-fixed_offset]\n",
        "viz[4][1] = [255-fixed_offset, 0, 0]\n",
        "viz[4][4] = [255-fixed_offset, 255-fixed_offset, 0]\n",
        "viz[4][7] = [255-fixed_offset, 165-fixed_offset, 0]\n",
        "viz[7][4] = [0, 255-fixed_offset, 0]\n",
        "viz[10][4] = [255-fixed_offset, 255-fixed_offset, 255-fixed_offset]\n",
        "\n",
        "colors = {\n",
        "  \"yellow\": [255, 255, 0],\n",
        "  \"green\": [0, 255, 00],\n",
        "  \"blue\": [0, 0, 255],\n",
        "  \"red\": [255, 0, 0],\n",
        "  \"orange\": [255, 165, 0],\n",
        "  \"white\": [255, 255, 255]\n",
        "}\n",
        "\n",
        "# Create (m)ap between piece and visualization.\n",
        "m = {\n",
        "    (\"U\", 0): (3, 3),\n",
        "    (\"U\", 1): (3, 4),\n",
        "    (\"U\", 2): (3, 5),\n",
        "    (\"U\", 3): (4, 5),\n",
        "    (\"U\", 4): (5, 5),\n",
        "    (\"U\", 5): (5, 4),\n",
        "    (\"U\", 6): (5, 3),\n",
        "    (\"U\", 7): (4, 3),\n",
        "\n",
        "}\n",
        "\n",
        "# Offset each side in relaton to side U.\n",
        "for i in range(8):\n",
        "  m[(\"B\", i)] = m[(\"U\", i)][0]-3, m[(\"U\", i)][1]\n",
        "  m[(\"L\", i)] = m[(\"U\", i)][0], m[(\"U\", i)][1]-3\n",
        "  m[(\"R\", i)] = m[(\"U\", i)][0], m[(\"U\", i)][1]+3\n",
        "  m[(\"F\", i)] = m[(\"U\", i)][0]+3, m[(\"U\", i)][1]\n",
        "  m[(\"D\", i)] = m[(\"U\", i)][0]+6, m[(\"U\", i)][1]\n",
        "\n",
        "# Assign default colors for test.\n",
        "for i in range(8):\n",
        "  viz[m[(\"U\", i)]] = colors[\"yellow\"]\n",
        "  viz[m[(\"F\", i)]] = colors[\"green\"]\n",
        "  viz[m[(\"B\", i)]] = colors[\"blue\"]\n",
        "  viz[m[(\"L\", i)]] = colors[\"red\"]\n",
        "  viz[m[(\"R\", i)]] = colors[\"orange\"]\n",
        "  viz[m[(\"D\", i)]] = colors[\"white\"]\n",
        "\n",
        "# Try to change this as a test.\n",
        "#viz[m[(\"F\", 0)]] = [255, 0, 255]\n",
        "\n",
        "plot_images([viz.astype(np.uint8)])"
      ]
    },
    {
      "cell_type": "code",
      "execution_count": 137,
      "metadata": {
        "id": "IBTTNzM0dIGo"
      },
      "outputs": [],
      "source": [
        "# Define offsets between camera indeces and global indices for different cube orientations.\n",
        "# For instance, if the cube is oriented with the yellow side up and blue side front\n",
        "# the offset for all indices on side (U)pp will be: offsets_U[(\"yellow\", \"blue\")].\n",
        "offsets_U={(\"green\",\"yellow\"):4,(\"green\",\"white\"):0,(\"green\",\"red\"):2,(\"green\",\"orange\"):6,(\"yellow\",\"green\"):0,(\"yellow\",\"blue\"):4,(\"yellow\",\"red\"):2,(\"yellow\",\"orange\"):6,(\"blue\",\"yellow\"):0,(\"blue\",\"white\"):4,(\"blue\",\"red\"):2,(\"blue\",\"orange\"):6,(\"white\",\"green\"):4,(\"white\",\"blue\"):0,(\"white\",\"red\"):2,(\"white\",\"orange\"):6,(\"red\",\"green\"):0,(\"red\",\"yellow\"):6,(\"red\",\"blue\"):4,(\"red\",\"white\"):2,(\"orange\",\"green\"):0,(\"orange\",\"yellow\"):2,(\"orange\",\"blue\"):4,(\"orange\",\"white\"):6}\n",
        "offsets_F={(\"yellow\",\"green\"):0,(\"white\",\"green\"):4,(\"red\",\"green\"):6,(\"orange\",\"green\"):2,(\"green\",\"yellow\"):4,(\"blue\",\"yellow\"):0,(\"red\",\"yellow\"):6,(\"orange\",\"yellow\"):2,(\"yellow\",\"blue\"):4,(\"white\",\"blue\"):0,(\"red\",\"blue\"):6,(\"orange\",\"blue\"):2,(\"green\",\"white\"):0,(\"blue\",\"white\"):4,(\"red\",\"white\"):6,(\"orange\",\"white\"):2,(\"green\",\"red\"):4,(\"yellow\",\"red\"):2,(\"blue\",\"red\"):0,(\"white\",\"red\"):6,(\"green\",\"orange\"):4,(\"yellow\",\"orange\"):6,(\"blue\",\"orange\"):0,(\"white\",\"orange\"):2}\n",
        "offsets_L={(\"yellow\",\"orange\"):0,(\"orange\",\"white\"):2,(\"white\",\"red\"):4,(\"red\",\"yellow\"):6,(\"blue\",\"orange\"):0,(\"orange\",\"green\"):2,(\"green\",\"red\"):4,(\"red\",\"blue\"):6,(\"white\",\"orange\"):0,(\"orange\",\"yellow\"):2,(\"yellow\",\"red\"):4,(\"red\",\"white\"):6,(\"green\",\"orange\"):0,(\"orange\",\"blue\"):2,(\"blue\",\"red\"):4,(\"red\",\"green\"):6,(\"blue\",\"yellow\"):0,(\"yellow\",\"green\"):2,(\"green\",\"white\"):4,(\"white\",\"blue\"):6,(\"blue\",\"white\"):0,(\"white\",\"green\"):2,(\"green\",\"yellow\"):4,(\"yellow\",\"blue\"):6}"
      ]
    },
    {
      "cell_type": "code",
      "execution_count": 152,
      "metadata": {},
      "outputs": [
        {
          "data": {
            "image/png": "[encoded data removed]",
            "text/plain": [
              "<Figure size 640x480 with 1 Axes>"
            ]
          },
          "metadata": {},
          "output_type": "display_data"
        }
      ],
      "source": [
        "# Reset visualiation.\n",
        "for side in [\"U\", \"F\", \"B\", \"L\", \"R\", \"D\"]:\n",
        "  for i in range(8):\n",
        "    viz[m[(side, i)]] = [50, 50, 50]\n",
        "\n",
        "piece_colors = {}\n",
        "for i, piece in enumerate(piece_predictions):\n",
        "    piece_colors[piece] = color_predictions[i]\n",
        "print(m)\n",
        "print(color_names)\n",
        "\n",
        "camera_piece_names = [\n",
        "    (\"U\", 0), (\"U\", 1), (\"U\", 2), (\"U\", 3), (\"U\", 4), (\"U\", 5), (\"U\", 6), (\"U\", 7), (\"U\", 8),\n",
        "    (\"F\", 0), (\"F\", 1), (\"F\", 2), (\"F\", 3), (\"F\", 4), (\"F\", 5), (\"F\", 6), (\"F\", 7), (\"F\", 8),\n",
        "    (\"L\", 0), (\"L\", 1), (\"L\", 2), (\"L\", 3), (\"L\", 4), (\"L\", 5), (\"L\", 6), (\"L\", 7), (\"L\", 8)\n",
        "]\n",
        "\n",
        "fixed_color_to_side = [\"F\", \"U\", \"B\", \"D\", \"L\", \"R\"]\n",
        "\n",
        "# Get orientation (the fixed pieces always has the same indices).\n",
        "color_U, color_F, color_L = piece_colors[8], piece_colors[17], piece_colors[26]\n",
        "\n",
        "def local_to_global(local):\n",
        "  return (local + offset) % 8\n",
        "\n",
        "for piece, color in piece_colors.items():\n",
        "  camera_name = camera_piece_names[piece]\n",
        "\n",
        "  if piece < 9:\n",
        "    offset = offsets_U[(color_names[color_U], color_names[color_F])]\n",
        "    side = fixed_color_to_side[color_U]\n",
        "  elif piece < 18:\n",
        "    offset = offsets_F[(color_names[color_U], color_names[color_F])]\n",
        "    side = fixed_color_to_side[color_F]\n",
        "  else:\n",
        "    offset = offsets_L[(color_names[color_U], color_names[color_F])]\n",
        "    side = fixed_color_to_side[color_L]\n",
        "\n",
        "  viz[m[(side, local_to_global(camera_name[1]))]] = colors[color_names[color]]\n",
        "\n",
        "plot_images([viz.astype(np.uint8)])\n",
        "  "
      ]
    },
    {
      "cell_type": "code",
      "execution_count": 138,
      "metadata": {
        "id": "ASUWA6W_ey4k"
      },
      "outputs": [
        {
          "data": {
            "image/png": "[encoded data removed]",
            "text/plain": [
              "<Figure size 640x480 with 1 Axes>"
            ]
          },
          "metadata": {},
          "output_type": "display_data"
        }
      ],
      "source": [
        "# Test with random photo.\n",
        "\n",
        "# Reset visualiation.\n",
        "for side in [\"U\", \"F\", \"B\", \"L\", \"R\", \"D\"]:\n",
        "  for i in range(8):\n",
        "    viz[m[(side, i)]] = [50, 50, 50]\n",
        "\n",
        "def local_to_global(local):\n",
        "  return (local + offset) % 8\n",
        "\n",
        "# Below we are manually entering the values as they are seen by the camera.\n",
        "\n",
        "# The side that is (U)pp for the camera.\n",
        "# The following three blocks represents the first image.\n",
        "offset = offsets_U[(\"green\", \"orange\")]\n",
        "viz[m[(\"F\", local_to_global(0))]] = colors[\"orange\"]\n",
        "viz[m[(\"F\", local_to_global(1))]] = colors[\"red\"]\n",
        "viz[m[(\"F\", local_to_global(2))]] = colors[\"green\"]\n",
        "viz[m[(\"F\", local_to_global(3))]] = colors[\"orange\"]\n",
        "viz[m[(\"F\", local_to_global(4))]] = colors[\"yellow\"]\n",
        "viz[m[(\"F\", local_to_global(5))]] = colors[\"green\"]\n",
        "viz[m[(\"F\", local_to_global(6))]] = colors[\"white\"]\n",
        "viz[m[(\"F\", local_to_global(7))]] = colors[\"orange\"]\n",
        "\n",
        "offset = offsets_L[(\"green\", \"orange\")]\n",
        "viz[m[(\"D\", local_to_global(0))]] = colors[\"yellow\"]\n",
        "viz[m[(\"D\", local_to_global(1))]] = colors[\"yellow\"]\n",
        "viz[m[(\"D\", local_to_global(2))]] = colors[\"blue\"]\n",
        "viz[m[(\"D\", local_to_global(3))]] = colors[\"yellow\"]\n",
        "viz[m[(\"D\", local_to_global(4))]] = colors[\"green\"]\n",
        "viz[m[(\"D\", local_to_global(5))]] = colors[\"white\"]\n",
        "viz[m[(\"D\", local_to_global(6))]] = colors[\"yellow\"]\n",
        "viz[m[(\"D\", local_to_global(7))]] = colors[\"orange\"]\n",
        "\n",
        "offset = offsets_F[(\"green\", \"orange\")]\n",
        "viz[m[(\"R\", local_to_global(0))]] = colors[\"orange\"]\n",
        "viz[m[(\"R\", local_to_global(1))]] = colors[\"red\"]\n",
        "viz[m[(\"R\", local_to_global(2))]] = colors[\"blue\"]\n",
        "viz[m[(\"R\", local_to_global(3))]] = colors[\"blue\"]\n",
        "viz[m[(\"R\", local_to_global(4))]] = colors[\"white\"]\n",
        "viz[m[(\"R\", local_to_global(5))]] = colors[\"yellow\"]\n",
        "viz[m[(\"R\", local_to_global(6))]] = colors[\"yellow\"]\n",
        "viz[m[(\"R\", local_to_global(7))]] = colors[\"blue\"]\n",
        "\n",
        "# The following three blocks represents the second image.\n",
        "offset = offsets_U[(\"blue\", \"yellow\")]\n",
        "viz[m[(\"B\", local_to_global(0))]] = colors[\"green\"]\n",
        "viz[m[(\"B\", local_to_global(1))]] = colors[\"blue\"]\n",
        "viz[m[(\"B\", local_to_global(2))]] = colors[\"yellow\"]\n",
        "viz[m[(\"B\", local_to_global(3))]] = colors[\"green\"]\n",
        "viz[m[(\"B\", local_to_global(4))]] = colors[\"green\"]\n",
        "viz[m[(\"B\", local_to_global(5))]] = colors[\"white\"]\n",
        "viz[m[(\"B\", local_to_global(6))]] = colors[\"red\"]\n",
        "viz[m[(\"B\", local_to_global(7))]] = colors[\"yellow\"]\n",
        "\n",
        "offset = offsets_L[(\"blue\", \"yellow\")]\n",
        "viz[m[(\"L\", local_to_global(0))]] = colors[\"red\"]\n",
        "viz[m[(\"L\", local_to_global(1))]] = colors[\"white\"]\n",
        "viz[m[(\"L\", local_to_global(2))]] = colors[\"blue\"]\n",
        "viz[m[(\"L\", local_to_global(3))]] = colors[\"red\"]\n",
        "viz[m[(\"L\", local_to_global(4))]] = colors[\"orange\"]\n",
        "viz[m[(\"L\", local_to_global(5))]] = colors[\"white\"]\n",
        "viz[m[(\"L\", local_to_global(6))]] = colors[\"blue\"]\n",
        "viz[m[(\"L\", local_to_global(7))]] = colors[\"blue\"]\n",
        "\n",
        "offset = offsets_F[(\"blue\", \"yellow\")]\n",
        "viz[m[(\"U\", local_to_global(0))]] = colors[\"white\"]\n",
        "viz[m[(\"U\", local_to_global(1))]] = colors[\"green\"]\n",
        "viz[m[(\"U\", local_to_global(2))]] = colors[\"red\"]\n",
        "viz[m[(\"U\", local_to_global(3))]] = colors[\"red\"]\n",
        "viz[m[(\"U\", local_to_global(4))]] = colors[\"red\"]\n",
        "viz[m[(\"U\", local_to_global(5))]] = colors[\"green\"]\n",
        "viz[m[(\"U\", local_to_global(6))]] = colors[\"white\"]\n",
        "viz[m[(\"U\", local_to_global(7))]] = colors[\"yellow\"]\n",
        "\n",
        "plot_images([viz.astype(np.uint8)])"
      ]
    }
  ],
  "metadata": {
    "colab": {
      "provenance": [],
      "toc_visible": true
    },
    "kernelspec": {
      "display_name": "Python 3",
      "language": "python",
      "name": "python3"
    },
    "language_info": {
      "codemirror_mode": {
        "name": "ipython",
        "version": 3
      },
      "file_extension": ".py",
      "mimetype": "text/x-python",
      "name": "python",
      "nbconvert_exporter": "python",
      "pygments_lexer": "ipython3",
      "version": "3.10.12"
    }
  },
  "nbformat": 4,
  "nbformat_minor": 0
}
